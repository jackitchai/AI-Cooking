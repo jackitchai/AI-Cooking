{
 "cells": [
  {
   "cell_type": "code",
   "execution_count": 27,
   "metadata": {},
   "outputs": [
    {
     "name": "stdout",
     "output_type": "stream",
     "text": [
      "Output CSV file 'output.csv' has been created.\n"
     ]
    },
    {
     "data": {
      "text/plain": [
       "50"
      ]
     },
     "execution_count": 27,
     "metadata": {},
     "output_type": "execute_result"
    }
   ],
   "source": [
    "import csv\n",
    "import string\n",
    "from nltk.corpus import words\n",
    "\n",
    "# Load English words from nltk\n",
    "english_words = set(words.words())\n",
    "a = 1\n",
    "def decrypt_caesar_cipher(ciphertext, shift):\n",
    "    decrypted_text = \"\"\n",
    "    for char in ciphertext:\n",
    "        if char.isalpha():\n",
    "            shift_num = 65 if char.isupper() else 97\n",
    "            decrypted_text += chr((ord(char) - shift_num - shift) % 26 + shift_num)\n",
    "        else:\n",
    "            decrypted_text += char\n",
    "    return decrypted_text\n",
    "\n",
    "def is_plaintext(text):\n",
    "    # Split text into words and check if a significant percentage are in English word list\n",
    "    words_in_text = text.split()\n",
    "    english_word_count = sum(1 for word in words_in_text if word.lower() in english_words)\n",
    "    if english_word_count / len(words_in_text) >= 0.43:  # Adjust threshold as needed\n",
    "        return True\n",
    "    return False\n",
    "text = []\n",
    "def find_shift_value(ciphertext):\n",
    "    for shift in range(1, 26):\n",
    "        decrypted_text = decrypt_caesar_cipher(ciphertext, shift)\n",
    "        # Check if the decrypted text contains significant English words\n",
    "        if is_plaintext(decrypted_text):\n",
    "            text.append(decrypted_text)\n",
    "            \n",
    "            return shift\n",
    "    return None\n",
    "\n",
    "# Read the input CSV file\n",
    "input_file = \"test.csv\"\n",
    "data = []\n",
    "\n",
    "with open(input_file, mode='r') as file:\n",
    "    reader = csv.DictReader(file)\n",
    "    for row in reader:\n",
    "        clean_row = {key.strip(): value for key, value in row.items()}\n",
    "        data.append({\"id\": clean_row[\"id\"], \"text\": clean_row[\"text\"]})\n",
    "\n",
    "# Determine the shift value for each text\n",
    "output_data = []\n",
    "for row in data:\n",
    "    shift = find_shift_value(row[\"text\"])\n",
    "    if shift is not None:\n",
    "        output_data.append({\"id\": row[\"id\"], \"n\": shift})\n",
    "\n",
    "# Write the output data to a new CSV file\n",
    "output_file = \"output.csv\"\n",
    "with open(output_file, mode='w', newline='') as file:\n",
    "    writer = csv.writer(file)\n",
    "    writer.writerow([\"id\", \"n\"])  # Writing the header\n",
    "    for row in output_data:\n",
    "        writer.writerow([row[\"id\"], row[\"n\"]])\n",
    "\n",
    "print(f\"Output CSV file '{output_file}' has been created.\")\n",
    "len(text)\n"
   ]
  },
  {
   "cell_type": "code",
   "execution_count": null,
   "metadata": {},
   "outputs": [],
   "source": []
  }
 ],
 "metadata": {
  "kernelspec": {
   "display_name": "Python 3",
   "language": "python",
   "name": "python3"
  },
  "language_info": {
   "codemirror_mode": {
    "name": "ipython",
    "version": 3
   },
   "file_extension": ".py",
   "mimetype": "text/x-python",
   "name": "python",
   "nbconvert_exporter": "python",
   "pygments_lexer": "ipython3",
   "version": "3.12.2"
  }
 },
 "nbformat": 4,
 "nbformat_minor": 2
}
