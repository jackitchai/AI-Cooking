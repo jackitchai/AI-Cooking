{
 "cells": [
  {
   "cell_type": "code",
   "execution_count": null,
   "metadata": {},
   "outputs": [],
   "source": [
    "api_key = 'K83860864588957'\n"
   ]
  },
  {
   "cell_type": "code",
   "execution_count": 1,
   "metadata": {},
   "outputs": [],
   "source": [
    "import pytesseract \n",
    "from PIL import Image"
   ]
  },
  {
   "cell_type": "code",
   "execution_count": 2,
   "metadata": {},
   "outputs": [],
   "source": [
    "pytesseract.pytesseract.tesseract_cmd = r'/opt/homebrew/Cellar/tesseract/5.4.1/bin/tesseract'"
   ]
  },
  {
   "cell_type": "code",
   "execution_count": 3,
   "metadata": {},
   "outputs": [
    {
     "data": {
      "text/plain": [
       "'ยําไข่เค็ม\\n'"
      ]
     },
     "execution_count": 3,
     "metadata": {},
     "output_type": "execute_result"
    }
   ],
   "source": [
    "images_folder = \"IMG_Data/7.png\"\n",
    "word = []\n",
    "img = Image.open(images_folder)\n",
    "ocr = pytesseract.image_to_string(img,lang = \"tha\")\n",
    "word.append(ocr)\n",
    "ocr"
   ]
  },
  {
   "cell_type": "code",
   "execution_count": 27,
   "metadata": {},
   "outputs": [],
   "source": [
    "pytesseract.pytesseract.tesseract_cmd = r'/opt/homebrew/Cellar/tesseract/5.4.1/bin/tesseract'"
   ]
  },
  {
   "cell_type": "code",
   "execution_count": 14,
   "metadata": {},
   "outputs": [
    {
     "data": {
      "text/plain": [
       "''"
      ]
     },
     "execution_count": 14,
     "metadata": {},
     "output_type": "execute_result"
    }
   ],
   "source": [
    "images_folder = 'IMG_Data/2.png'\n",
    "img = Image.open(images_folder)\n",
    "ocr = pytesseract.image_to_string(img,lang = \"tha\")\n",
    "ocr = ocr.replace(\"\\n\",\"\")\n",
    "ocr\n"
   ]
  },
  {
   "cell_type": "code",
   "execution_count": 15,
   "metadata": {},
   "outputs": [
    {
     "data": {
      "image/jpeg": "[encoded data removed]",
      "image/png": "[encoded data removed]",
      "text/plain": [
       "<PIL.PngImagePlugin.PngImageFile image mode=RGB size=500x200>"
      ]
     },
     "execution_count": 15,
     "metadata": {},
     "output_type": "execute_result"
    }
   ],
   "source": [
    "img"
   ]
  },
  {
   "cell_type": "code",
   "execution_count": 12,
   "metadata": {},
   "outputs": [
    {
     "ename": "NameError",
     "evalue": "name 'os' is not defined",
     "output_type": "error",
     "traceback": [
      "\u001b[0;31m---------------------------------------------------------------------------\u001b[0m",
      "\u001b[0;31mNameError\u001b[0m                                 Traceback (most recent call last)",
      "Cell \u001b[0;32mIn[12], line 3\u001b[0m\n\u001b[1;32m      1\u001b[0m images_folder \u001b[38;5;241m=\u001b[39m \u001b[38;5;124m\"\u001b[39m\u001b[38;5;124mIMG_Data/\u001b[39m\u001b[38;5;124m\"\u001b[39m\n\u001b[1;32m      2\u001b[0m word \u001b[38;5;241m=\u001b[39m []\n\u001b[0;32m----> 3\u001b[0m \u001b[38;5;28;01mfor\u001b[39;00m filename \u001b[38;5;129;01min\u001b[39;00m \u001b[43mos\u001b[49m\u001b[38;5;241m.\u001b[39mlistdir(images_folder):\n\u001b[1;32m      4\u001b[0m     path \u001b[38;5;241m=\u001b[39m images_folder\u001b[38;5;241m+\u001b[39mfilename\n\u001b[1;32m      5\u001b[0m     \u001b[38;5;28mprint\u001b[39m(path)\n",
      "\u001b[0;31mNameError\u001b[0m: name 'os' is not defined"
     ]
    }
   ],
   "source": [
    "images_folder = \"IMG_Data/\"\n",
    "word = []\n",
    "for filename in os.listdir(images_folder):\n",
    "    path = images_folder+filename\n",
    "    print(path)\n",
    "    img = Image.open(images_folder+filename)\n",
    "    ocr = pytesseract.image_to_string(img,lang = \"tha\")\n",
    "    word.append(ocr)\n",
    "    print(path)"
   ]
  },
  {
   "cell_type": "code",
   "execution_count": 12,
   "metadata": {},
   "outputs": [
    {
     "name": "stdout",
     "output_type": "stream",
     "text": [
      "Error during translation: 'NoneType' object has no attribute 'group'\n",
      "Processed image 1.png\n",
      "Error during translation: 'NoneType' object has no attribute 'group'\n",
      "Processed image 3.png\n",
      "Error during translation: 'NoneType' object has no attribute 'group'\n",
      "Processed image 4.png\n",
      "Error during translation: 'NoneType' object has no attribute 'group'\n",
      "Processed image 5.png\n",
      "Error during translation: 'NoneType' object has no attribute 'group'\n",
      "Processed image 6.png\n",
      "Error during translation: 'NoneType' object has no attribute 'group'\n",
      "Processed image 7.png\n",
      "Error during translation: 'NoneType' object has no attribute 'group'\n",
      "Processed image 8.png\n",
      "Error during translation: 'NoneType' object has no attribute 'group'\n",
      "Processed image 9.png\n",
      "Error during translation: 'NoneType' object has no attribute 'group'\n",
      "Processed image 10.png\n",
      "Error during translation: 'NoneType' object has no attribute 'group'\n",
      "Processed image 11.png\n",
      "Error during translation: 'NoneType' object has no attribute 'group'\n",
      "Processed image 12.png\n",
      "Error during translation: 'NoneType' object has no attribute 'group'\n",
      "Processed image 13.png\n",
      "Error during translation: 'NoneType' object has no attribute 'group'\n",
      "Processed image 14.png\n",
      "Error during translation: 'NoneType' object has no attribute 'group'\n",
      "Processed image 15.png\n",
      "Error during translation: 'NoneType' object has no attribute 'group'\n",
      "Processed image 16.png\n",
      "Error during translation: 'NoneType' object has no attribute 'group'\n",
      "Processed image 17.png\n",
      "Error during translation: 'NoneType' object has no attribute 'group'\n",
      "Processed image 18.png\n",
      "Error during translation: 'NoneType' object has no attribute 'group'\n",
      "Processed image 19.png\n",
      "Error during translation: 'NoneType' object has no attribute 'group'\n",
      "Processed image 20.png\n",
      "Error during translation: 'NoneType' object has no attribute 'group'\n",
      "Processed image 21.png\n",
      "Error during translation: 'NoneType' object has no attribute 'group'\n",
      "Processed image 22.png\n",
      "Error during translation: 'NoneType' object has no attribute 'group'\n",
      "Processed image 23.png\n",
      "Error during translation: 'NoneType' object has no attribute 'group'\n",
      "Processed image 24.png\n",
      "Error during translation: 'NoneType' object has no attribute 'group'\n",
      "Processed image 25.png\n",
      "Error during translation: 'NoneType' object has no attribute 'group'\n",
      "Processed image 26.png\n",
      "Error during translation: 'NoneType' object has no attribute 'group'\n",
      "Processed image 27.png\n",
      "Error during translation: 'NoneType' object has no attribute 'group'\n",
      "Processed image 28.png\n",
      "Error during translation: 'NoneType' object has no attribute 'group'\n",
      "Processed image 29.png\n",
      "Error during translation: 'NoneType' object has no attribute 'group'\n",
      "Processed image 30.png\n",
      "Error during translation: 'NoneType' object has no attribute 'group'\n",
      "Processed image 31.png\n",
      "Error during translation: 'NoneType' object has no attribute 'group'\n",
      "Processed image 32.png\n",
      "Error during translation: 'NoneType' object has no attribute 'group'\n",
      "Processed image 33.png\n",
      "Error during translation: 'NoneType' object has no attribute 'group'\n",
      "Processed image 34.png\n",
      "Error during translation: 'NoneType' object has no attribute 'group'\n",
      "Processed image 35.png\n",
      "Error during translation: 'NoneType' object has no attribute 'group'\n",
      "Processed image 36.png\n",
      "Error during translation: 'NoneType' object has no attribute 'group'\n",
      "Processed image 37.png\n",
      "Error during translation: 'NoneType' object has no attribute 'group'\n",
      "Processed image 38.png\n",
      "Error during translation: 'NoneType' object has no attribute 'group'\n",
      "Processed image 39.png\n",
      "Error during translation: 'NoneType' object has no attribute 'group'\n",
      "Processed image 40.png\n",
      "Error during translation: 'NoneType' object has no attribute 'group'\n",
      "Processed image 41.png\n",
      "Error during translation: 'NoneType' object has no attribute 'group'\n",
      "Processed image 42.png\n",
      "Error during translation: 'NoneType' object has no attribute 'group'\n",
      "Processed image 43.png\n",
      "Error during translation: 'NoneType' object has no attribute 'group'\n",
      "Processed image 44.png\n",
      "Error during translation: 'NoneType' object has no attribute 'group'\n",
      "Processed image 45.png\n",
      "Error during translation: 'NoneType' object has no attribute 'group'\n",
      "Processed image 46.png\n",
      "Error during translation: 'NoneType' object has no attribute 'group'\n",
      "Processed image 47.png\n",
      "Error during translation: 'NoneType' object has no attribute 'group'\n",
      "Processed image 48.png\n",
      "Error during translation: 'NoneType' object has no attribute 'group'\n",
      "Processed image 49.png\n",
      "Error during translation: 'NoneType' object has no attribute 'group'\n",
      "Processed image 50.png\n",
      "Error during translation: 'NoneType' object has no attribute 'group'\n",
      "Processed image 51.png\n",
      "Error during translation: 'NoneType' object has no attribute 'group'\n",
      "Processed image 52.png\n",
      "Error during translation: 'NoneType' object has no attribute 'group'\n",
      "Processed image 53.png\n",
      "Error during translation: 'NoneType' object has no attribute 'group'\n",
      "Processed image 54.png\n",
      "Error during translation: 'NoneType' object has no attribute 'group'\n",
      "Processed image 55.png\n",
      "Error during translation: 'NoneType' object has no attribute 'group'\n",
      "Processed image 56.png\n",
      "Error during translation: 'NoneType' object has no attribute 'group'\n",
      "Processed image 57.png\n",
      "Error during translation: 'NoneType' object has no attribute 'group'\n",
      "Processed image 58.png\n",
      "Error during translation: 'NoneType' object has no attribute 'group'\n",
      "Processed image 59.png\n",
      "Error during translation: 'NoneType' object has no attribute 'group'\n",
      "Processed image 60.png\n",
      "Error during translation: 'NoneType' object has no attribute 'group'\n",
      "Processed image 61.png\n",
      "Error during translation: 'NoneType' object has no attribute 'group'\n",
      "Processed image 62.png\n",
      "Error during translation: 'NoneType' object has no attribute 'group'\n",
      "Processed image 63.png\n",
      "Error during translation: 'NoneType' object has no attribute 'group'\n",
      "Processed image 64.png\n",
      "Error during translation: 'NoneType' object has no attribute 'group'\n",
      "Processed image 65.png\n",
      "Error during translation: 'NoneType' object has no attribute 'group'\n",
      "Processed image 66.png\n",
      "Error during translation: 'NoneType' object has no attribute 'group'\n",
      "Processed image 67.png\n",
      "Error during translation: 'NoneType' object has no attribute 'group'\n",
      "Processed image 68.png\n",
      "Error during translation: 'NoneType' object has no attribute 'group'\n",
      "Processed image 69.png\n",
      "Error during translation: 'NoneType' object has no attribute 'group'\n",
      "Processed image 70.png\n",
      "Error during translation: 'NoneType' object has no attribute 'group'\n",
      "Processed image 71.png\n",
      "Error during translation: 'NoneType' object has no attribute 'group'\n",
      "Processed image 72.png\n",
      "Error during translation: 'NoneType' object has no attribute 'group'\n",
      "Processed image 73.png\n",
      "Error during translation: 'NoneType' object has no attribute 'group'\n",
      "Processed image 74.png\n",
      "Error during translation: 'NoneType' object has no attribute 'group'\n",
      "Processed image 75.png\n",
      "Error during translation: 'NoneType' object has no attribute 'group'\n",
      "Processed image 76.png\n",
      "Error during translation: 'NoneType' object has no attribute 'group'\n",
      "Processed image 77.png\n",
      "Error during translation: 'NoneType' object has no attribute 'group'\n",
      "Processed image 78.png\n",
      "Error during translation: 'NoneType' object has no attribute 'group'\n",
      "Processed image 79.png\n",
      "Error during translation: 'NoneType' object has no attribute 'group'\n",
      "Processed image 81.png\n",
      "Error during translation: 'NoneType' object has no attribute 'group'\n",
      "Processed image 82.png\n",
      "Error during translation: 'NoneType' object has no attribute 'group'\n",
      "Processed image 83.png\n",
      "Error during translation: 'NoneType' object has no attribute 'group'\n",
      "Processed image 84.png\n",
      "Error during translation: 'NoneType' object has no attribute 'group'\n",
      "Processed image 85.png\n",
      "Error during translation: 'NoneType' object has no attribute 'group'\n",
      "Processed image 86.png\n",
      "Error during translation: 'NoneType' object has no attribute 'group'\n",
      "Processed image 87.png\n",
      "Error during translation: 'NoneType' object has no attribute 'group'\n",
      "Processed image 89.png\n",
      "Error during translation: 'NoneType' object has no attribute 'group'\n",
      "Processed image 90.png\n",
      "Error during translation: 'NoneType' object has no attribute 'group'\n",
      "Processed image 92.png\n",
      "Error during translation: 'NoneType' object has no attribute 'group'\n",
      "Processed image 93.png\n",
      "Error during translation: 'NoneType' object has no attribute 'group'\n",
      "Processed image 94.png\n",
      "Error during translation: 'NoneType' object has no attribute 'group'\n",
      "Processed image 95.png\n",
      "Error during translation: 'NoneType' object has no attribute 'group'\n",
      "Processed image 96.png\n",
      "Error during translation: 'NoneType' object has no attribute 'group'\n",
      "Processed image 97.png\n",
      "Error during translation: 'NoneType' object has no attribute 'group'\n",
      "Processed image 98.png\n",
      "Error during translation: 'NoneType' object has no attribute 'group'\n",
      "Processed image 99.png\n",
      "Error during translation: 'NoneType' object has no attribute 'group'\n",
      "Processed image 100.png\n",
      "Error during translation: 'NoneType' object has no attribute 'group'\n",
      "Processed image 101.png\n",
      "Error during translation: 'NoneType' object has no attribute 'group'\n",
      "Processed image 102.png\n",
      "Error during translation: 'NoneType' object has no attribute 'group'\n",
      "Processed image 103.png\n",
      "Error during translation: 'NoneType' object has no attribute 'group'\n",
      "Processed image 104.png\n",
      "Error during translation: 'NoneType' object has no attribute 'group'\n",
      "Processed image 105.png\n",
      "Error during translation: 'NoneType' object has no attribute 'group'\n",
      "Processed image 106.png\n",
      "Error during translation: 'NoneType' object has no attribute 'group'\n",
      "Processed image 107.png\n",
      "Error during translation: 'NoneType' object has no attribute 'group'\n",
      "Processed image 108.png\n",
      "Error during translation: 'NoneType' object has no attribute 'group'\n",
      "Processed image 109.png\n",
      "Error during translation: 'NoneType' object has no attribute 'group'\n",
      "Processed image 110.png\n",
      "Error during translation: 'NoneType' object has no attribute 'group'\n",
      "Processed image 111.png\n",
      "Error during translation: 'NoneType' object has no attribute 'group'\n",
      "Processed image 112.png\n",
      "Error during translation: 'NoneType' object has no attribute 'group'\n",
      "Processed image 113.png\n",
      "Error during translation: 'NoneType' object has no attribute 'group'\n",
      "Processed image 114.png\n",
      "Error during translation: 'NoneType' object has no attribute 'group'\n",
      "Processed image 115.png\n",
      "Error during translation: 'NoneType' object has no attribute 'group'\n",
      "Processed image 116.png\n",
      "Error during translation: 'NoneType' object has no attribute 'group'\n",
      "Processed image 117.png\n",
      "Error during translation: 'NoneType' object has no attribute 'group'\n",
      "Processed image 118.png\n",
      "Error during translation: 'NoneType' object has no attribute 'group'\n",
      "Processed image 119.png\n",
      "Error during translation: 'NoneType' object has no attribute 'group'\n",
      "Processed image 120.png\n",
      "Error during translation: 'NoneType' object has no attribute 'group'\n",
      "Processed image 121.png\n",
      "Error during translation: 'NoneType' object has no attribute 'group'\n",
      "Processed image 122.png\n",
      "Error during translation: 'NoneType' object has no attribute 'group'\n",
      "Processed image 123.png\n",
      "Error during translation: 'NoneType' object has no attribute 'group'\n",
      "Processed image 124.png\n",
      "Error during translation: 'NoneType' object has no attribute 'group'\n",
      "Processed image 125.png\n",
      "Error during translation: 'NoneType' object has no attribute 'group'\n",
      "Processed image 126.png\n",
      "Error during translation: 'NoneType' object has no attribute 'group'\n",
      "Processed image 127.png\n",
      "Error during translation: 'NoneType' object has no attribute 'group'\n",
      "Processed image 128.png\n",
      "Error during translation: 'NoneType' object has no attribute 'group'\n",
      "Processed image 129.png\n",
      "Error during translation: 'NoneType' object has no attribute 'group'\n",
      "Processed image 130.png\n",
      "Error during translation: 'NoneType' object has no attribute 'group'\n",
      "Processed image 131.png\n",
      "Error during translation: 'NoneType' object has no attribute 'group'\n",
      "Processed image 132.png\n",
      "Error during translation: 'NoneType' object has no attribute 'group'\n",
      "Processed image 133.png\n",
      "Error during translation: 'NoneType' object has no attribute 'group'\n",
      "Processed image 135.png\n",
      "Error during translation: 'NoneType' object has no attribute 'group'\n",
      "Processed image 136.png\n",
      "Error during translation: 'NoneType' object has no attribute 'group'\n",
      "Processed image 137.png\n",
      "CSV file generation completed.\n"
     ]
    }
   ],
   "source": [
    "import os\n",
    "import csv\n",
    "import pytesseract\n",
    "from PIL import Image\n",
    "from googletrans import Translator\n",
    "\n",
    "# Path to the Tesseract executable (only necessary if Tesseract is not in your PATH)\n",
    "# Uncomment and modify the following line if needed:\n",
    "# pytesseract.pytesseract.tesseract_cmd = r'C:\\Program Files\\Tesseract-OCR\\tesseract.exe'\n",
    "\n",
    "# Ensure TESSDATA_PREFIX is set\n",
    "\n",
    "# Initialize Google Translate client\n",
    "translator = Translator()\n",
    "\n",
    "# Path to the folder containing images\n",
    "images_folder = 'IMG_Data/'\n",
    "\n",
    "# Function to extract text from image using Tesseract OCR\n",
    "def extract_text_from_image(image_path):\n",
    "    try:\n",
    "        image = Image.open(image_path)\n",
    "        text = pytesseract.image_to_string(image, lang='tha')\n",
    "        text = text.replace(\"\\n\",\"\")\n",
    "        return text.strip()\n",
    "    except Exception as e:\n",
    "        print(f\"Error processing image {image_path}: {e}\")\n",
    "        return ''\n",
    "\n",
    "# Function to translate text from Thai to English using Google Translate API\n",
    "def translate_text(text):\n",
    "    try:\n",
    "        translation = translator.translate(text, src='th', dest='en')\n",
    "        return translation.text\n",
    "    except Exception as e:\n",
    "        print(f\"Error during translation: {e}\")\n",
    "        return text\n",
    "\n",
    "# Initialize CSV writer\n",
    "csv_filename = 'menu_translation.csv'\n",
    "csv_file = open(csv_filename, 'w', newline='', encoding='utf-8')\n",
    "csv_writer = csv.writer(csv_file)\n",
    "csv_writer.writerow(['id', 'menu'])\n",
    "\n",
    "filenames = sorted([f for f in os.listdir(images_folder) if f.endswith('.png') or f.endswith('.jpg')],\n",
    "                   key=lambda x: int(os.path.splitext(x)[0]))\n",
    "# Process each image\n",
    "for filename in filenames:\n",
    "    if filename.endswith('.png') or filename.endswith('.jpg'):\n",
    "        image_id = os.path.splitext(filename)[0]  # Extracting id from filename\n",
    "        image_path = os.path.join(images_folder, filename)\n",
    "        \n",
    "        # Extract text from image using Tesseract OCR\n",
    "        thai_text = extract_text_from_image(image_path)\n",
    "        \n",
    "        if thai_text:\n",
    "            # Translate text to English\n",
    "            english_translation = translate_text(thai_text)\n",
    "            \n",
    "            # Write to CSV\n",
    "            csv_writer.writerow([image_id, english_translation])\n",
    "            \n",
    "            print(f\"Processed image {filename}\")\n",
    "        else:\n",
    "            # Write to CSV with empty translation if OCR failed\n",
    "            csv_writer.writerow([image_id, ''])\n",
    "\n",
    "# Close CSV file\n",
    "csv_file.close()\n",
    "\n",
    "print(\"CSV file generation completed.\")\n"
   ]
  },
  {
   "cell_type": "code",
   "execution_count": 17,
   "metadata": {},
   "outputs": [
    {
     "ename": "ModuleNotFoundError",
     "evalue": "No module named 'google_trans_new'",
     "output_type": "error",
     "traceback": [
      "\u001b[0;31m---------------------------------------------------------------------------\u001b[0m",
      "\u001b[0;31mModuleNotFoundError\u001b[0m                       Traceback (most recent call last)",
      "Cell \u001b[0;32mIn[17], line 1\u001b[0m\n\u001b[0;32m----> 1\u001b[0m \u001b[38;5;28;01mfrom\u001b[39;00m \u001b[38;5;21;01mgoogle_trans_new\u001b[39;00m \u001b[38;5;28;01mimport\u001b[39;00m google_translator  \n\u001b[1;32m      2\u001b[0m translator \u001b[38;5;241m=\u001b[39m google_translator()  \n\u001b[1;32m      3\u001b[0m translate_text \u001b[38;5;241m=\u001b[39m translator\u001b[38;5;241m.\u001b[39mtranslate(\u001b[38;5;124m'\u001b[39m\u001b[38;5;124mสวัสดีจีน\u001b[39m\u001b[38;5;124m'\u001b[39m,lang_tgt\u001b[38;5;241m=\u001b[39m\u001b[38;5;124m'\u001b[39m\u001b[38;5;124men\u001b[39m\u001b[38;5;124m'\u001b[39m)  \n",
      "\u001b[0;31mModuleNotFoundError\u001b[0m: No module named 'google_trans_new'"
     ]
    }
   ],
   "source": [
    "filenames"
   ]
  },
  {
   "cell_type": "code",
   "execution_count": 16,
   "metadata": {},
   "outputs": [
    {
     "ename": "AttributeError",
     "evalue": "'NoneType' object has no attribute 'group'",
     "output_type": "error",
     "traceback": [
      "\u001b[0;31m---------------------------------------------------------------------------\u001b[0m",
      "\u001b[0;31mAttributeError\u001b[0m                            Traceback (most recent call last)",
      "Cell \u001b[0;32mIn[16], line 2\u001b[0m\n\u001b[1;32m      1\u001b[0m translator \u001b[38;5;241m=\u001b[39m Translator()\n\u001b[0;32m----> 2\u001b[0m translation \u001b[38;5;241m=\u001b[39m \u001b[43mtranslator\u001b[49m\u001b[38;5;241;43m.\u001b[39;49m\u001b[43mtranslate\u001b[49m\u001b[43m(\u001b[49m\u001b[38;5;124;43m\"\u001b[39;49m\u001b[38;5;124;43mDer Himmel ist blau und ich mag Bananen\u001b[39;49m\u001b[38;5;124;43m\"\u001b[39;49m\u001b[43m,\u001b[49m\u001b[43m \u001b[49m\u001b[43mdest\u001b[49m\u001b[38;5;241;43m=\u001b[39;49m\u001b[38;5;124;43m'\u001b[39;49m\u001b[38;5;124;43men\u001b[39;49m\u001b[38;5;124;43m'\u001b[39;49m\u001b[43m)\u001b[49m\n\u001b[1;32m      3\u001b[0m \u001b[38;5;28mprint\u001b[39m(translation\u001b[38;5;241m.\u001b[39mtext)\n",
      "File \u001b[0;32m/Library/Frameworks/Python.framework/Versions/3.12/lib/python3.12/site-packages/googletrans/client.py:182\u001b[0m, in \u001b[0;36mTranslator.translate\u001b[0;34m(self, text, dest, src, **kwargs)\u001b[0m\n\u001b[1;32m    179\u001b[0m     \u001b[38;5;28;01mreturn\u001b[39;00m result\n\u001b[1;32m    181\u001b[0m origin \u001b[38;5;241m=\u001b[39m text\n\u001b[0;32m--> 182\u001b[0m data \u001b[38;5;241m=\u001b[39m \u001b[38;5;28;43mself\u001b[39;49m\u001b[38;5;241;43m.\u001b[39;49m\u001b[43m_translate\u001b[49m\u001b[43m(\u001b[49m\u001b[43mtext\u001b[49m\u001b[43m,\u001b[49m\u001b[43m \u001b[49m\u001b[43mdest\u001b[49m\u001b[43m,\u001b[49m\u001b[43m \u001b[49m\u001b[43msrc\u001b[49m\u001b[43m,\u001b[49m\u001b[43m \u001b[49m\u001b[43mkwargs\u001b[49m\u001b[43m)\u001b[49m\n\u001b[1;32m    184\u001b[0m \u001b[38;5;66;03m# this code will be updated when the format is changed.\u001b[39;00m\n\u001b[1;32m    185\u001b[0m translated \u001b[38;5;241m=\u001b[39m \u001b[38;5;124m'\u001b[39m\u001b[38;5;124m'\u001b[39m\u001b[38;5;241m.\u001b[39mjoin([d[\u001b[38;5;241m0\u001b[39m] \u001b[38;5;28;01mif\u001b[39;00m d[\u001b[38;5;241m0\u001b[39m] \u001b[38;5;28;01melse\u001b[39;00m \u001b[38;5;124m'\u001b[39m\u001b[38;5;124m'\u001b[39m \u001b[38;5;28;01mfor\u001b[39;00m d \u001b[38;5;129;01min\u001b[39;00m data[\u001b[38;5;241m0\u001b[39m]])\n",
      "File \u001b[0;32m/Library/Frameworks/Python.framework/Versions/3.12/lib/python3.12/site-packages/googletrans/client.py:78\u001b[0m, in \u001b[0;36mTranslator._translate\u001b[0;34m(self, text, dest, src, override)\u001b[0m\n\u001b[1;32m     77\u001b[0m \u001b[38;5;28;01mdef\u001b[39;00m \u001b[38;5;21m_translate\u001b[39m(\u001b[38;5;28mself\u001b[39m, text, dest, src, override):\n\u001b[0;32m---> 78\u001b[0m     token \u001b[38;5;241m=\u001b[39m \u001b[38;5;28;43mself\u001b[39;49m\u001b[38;5;241;43m.\u001b[39;49m\u001b[43mtoken_acquirer\u001b[49m\u001b[38;5;241;43m.\u001b[39;49m\u001b[43mdo\u001b[49m\u001b[43m(\u001b[49m\u001b[43mtext\u001b[49m\u001b[43m)\u001b[49m\n\u001b[1;32m     79\u001b[0m     params \u001b[38;5;241m=\u001b[39m utils\u001b[38;5;241m.\u001b[39mbuild_params(query\u001b[38;5;241m=\u001b[39mtext, src\u001b[38;5;241m=\u001b[39msrc, dest\u001b[38;5;241m=\u001b[39mdest,\n\u001b[1;32m     80\u001b[0m                                 token\u001b[38;5;241m=\u001b[39mtoken, override\u001b[38;5;241m=\u001b[39moverride)\n\u001b[1;32m     82\u001b[0m     url \u001b[38;5;241m=\u001b[39m urls\u001b[38;5;241m.\u001b[39mTRANSLATE\u001b[38;5;241m.\u001b[39mformat(host\u001b[38;5;241m=\u001b[39m\u001b[38;5;28mself\u001b[39m\u001b[38;5;241m.\u001b[39m_pick_service_url())\n",
      "File \u001b[0;32m/Library/Frameworks/Python.framework/Versions/3.12/lib/python3.12/site-packages/googletrans/gtoken.py:194\u001b[0m, in \u001b[0;36mTokenAcquirer.do\u001b[0;34m(self, text)\u001b[0m\n\u001b[1;32m    193\u001b[0m \u001b[38;5;28;01mdef\u001b[39;00m \u001b[38;5;21mdo\u001b[39m(\u001b[38;5;28mself\u001b[39m, text):\n\u001b[0;32m--> 194\u001b[0m     \u001b[38;5;28;43mself\u001b[39;49m\u001b[38;5;241;43m.\u001b[39;49m\u001b[43m_update\u001b[49m\u001b[43m(\u001b[49m\u001b[43m)\u001b[49m\n\u001b[1;32m    195\u001b[0m     tk \u001b[38;5;241m=\u001b[39m \u001b[38;5;28mself\u001b[39m\u001b[38;5;241m.\u001b[39macquire(text)\n\u001b[1;32m    196\u001b[0m     \u001b[38;5;28;01mreturn\u001b[39;00m tk\n",
      "File \u001b[0;32m/Library/Frameworks/Python.framework/Versions/3.12/lib/python3.12/site-packages/googletrans/gtoken.py:62\u001b[0m, in \u001b[0;36mTokenAcquirer._update\u001b[0;34m(self)\u001b[0m\n\u001b[1;32m     59\u001b[0m     \u001b[38;5;28;01mreturn\u001b[39;00m\n\u001b[1;32m     61\u001b[0m \u001b[38;5;66;03m# this will be the same as python code after stripping out a reserved word 'var'\u001b[39;00m\n\u001b[0;32m---> 62\u001b[0m code \u001b[38;5;241m=\u001b[39m \u001b[38;5;28;43mself\u001b[39;49m\u001b[38;5;241;43m.\u001b[39;49m\u001b[43mRE_TKK\u001b[49m\u001b[38;5;241;43m.\u001b[39;49m\u001b[43msearch\u001b[49m\u001b[43m(\u001b[49m\u001b[43mr\u001b[49m\u001b[38;5;241;43m.\u001b[39;49m\u001b[43mtext\u001b[49m\u001b[43m)\u001b[49m\u001b[38;5;241;43m.\u001b[39;49m\u001b[43mgroup\u001b[49m(\u001b[38;5;241m1\u001b[39m)\u001b[38;5;241m.\u001b[39mreplace(\u001b[38;5;124m'\u001b[39m\u001b[38;5;124mvar \u001b[39m\u001b[38;5;124m'\u001b[39m, \u001b[38;5;124m'\u001b[39m\u001b[38;5;124m'\u001b[39m)\n\u001b[1;32m     63\u001b[0m \u001b[38;5;66;03m# unescape special ascii characters such like a \\x3d(=)\u001b[39;00m\n\u001b[1;32m     64\u001b[0m code \u001b[38;5;241m=\u001b[39m code\u001b[38;5;241m.\u001b[39mencode()\u001b[38;5;241m.\u001b[39mdecode(\u001b[38;5;124m'\u001b[39m\u001b[38;5;124municode-escape\u001b[39m\u001b[38;5;124m'\u001b[39m)\n",
      "\u001b[0;31mAttributeError\u001b[0m: 'NoneType' object has no attribute 'group'"
     ]
    }
   ],
   "source": [
    "translator = Translator()\n",
    "translation = translator.translate(\"Der Himmel ist blau und ich mag Bananen\", dest='en')\n",
    "print(translation.text)"
   ]
  },
  {
   "cell_type": "code",
   "execution_count": 18,
   "metadata": {},
   "outputs": [
    {
     "ename": "ModuleNotFoundError",
     "evalue": "No module named 'google_trans_new'",
     "output_type": "error",
     "traceback": [
      "\u001b[0;31m---------------------------------------------------------------------------\u001b[0m",
      "\u001b[0;31mModuleNotFoundError\u001b[0m                       Traceback (most recent call last)",
      "Cell \u001b[0;32mIn[18], line 1\u001b[0m\n\u001b[0;32m----> 1\u001b[0m \u001b[38;5;28;01mfrom\u001b[39;00m \u001b[38;5;21;01mgoogle_trans_new\u001b[39;00m \u001b[38;5;28;01mimport\u001b[39;00m google_translator  \n\u001b[1;32m      2\u001b[0m translator \u001b[38;5;241m=\u001b[39m google_translator()  \n\u001b[1;32m      3\u001b[0m translate_text \u001b[38;5;241m=\u001b[39m translator\u001b[38;5;241m.\u001b[39mtranslate(\u001b[38;5;124m'\u001b[39m\u001b[38;5;124mสวัสดีจีน\u001b[39m\u001b[38;5;124m'\u001b[39m,lang_tgt\u001b[38;5;241m=\u001b[39m\u001b[38;5;124m'\u001b[39m\u001b[38;5;124men\u001b[39m\u001b[38;5;124m'\u001b[39m)  \n",
      "\u001b[0;31mModuleNotFoundError\u001b[0m: No module named 'google_trans_new'"
     ]
    }
   ],
   "source": [
    "from google_trans_new import google_translator  \n",
    "translator = google_translator()  \n",
    "translate_text = translator.translate('สวัสดีจีน',lang_tgt='en')  \n",
    "print(translate_text)"
   ]
  },
  {
   "cell_type": "code",
   "execution_count": 19,
   "metadata": {},
   "outputs": [
    {
     "ename": "ModuleNotFoundError",
     "evalue": "No module named 'google_trans_new'",
     "output_type": "error",
     "traceback": [
      "\u001b[0;31m---------------------------------------------------------------------------\u001b[0m",
      "\u001b[0;31mModuleNotFoundError\u001b[0m                       Traceback (most recent call last)",
      "Cell \u001b[0;32mIn[19], line 1\u001b[0m\n\u001b[0;32m----> 1\u001b[0m \u001b[38;5;28;01mfrom\u001b[39;00m \u001b[38;5;21;01mgoogle_trans_new\u001b[39;00m \u001b[38;5;28;01mimport\u001b[39;00m google_translator  \n\u001b[1;32m      2\u001b[0m translator \u001b[38;5;241m=\u001b[39m google_translator()  \n\u001b[1;32m      3\u001b[0m translate_text \u001b[38;5;241m=\u001b[39m translator\u001b[38;5;241m.\u001b[39mtranslate(\u001b[38;5;124m'\u001b[39m\u001b[38;5;124mสวัสดีจีน\u001b[39m\u001b[38;5;124m'\u001b[39m,lang_tgt\u001b[38;5;241m=\u001b[39m\u001b[38;5;124m'\u001b[39m\u001b[38;5;124men\u001b[39m\u001b[38;5;124m'\u001b[39m)  \n",
      "\u001b[0;31mModuleNotFoundError\u001b[0m: No module named 'google_trans_new'"
     ]
    }
   ],
   "source": [
    "from google_trans_new import google_translator  \n",
    "translator = google_translator()  \n",
    "translate_text = translator.translate('สวัสดีจีน',lang_tgt='en')  \n",
    "print(translate_text)"
   ]
  }
 ],
 "metadata": {
  "kernelspec": {
   "display_name": "Python 3",
   "language": "python",
   "name": "python3"
  },
  "language_info": {
   "codemirror_mode": {
    "name": "ipython",
    "version": 3
   },
   "file_extension": ".py",
   "mimetype": "text/x-python",
   "name": "python",
   "nbconvert_exporter": "python",
   "pygments_lexer": "ipython3",
   "version": "3.12.2"
  }
 },
 "nbformat": 4,
 "nbformat_minor": 2
}
