{
 "cells": [
  {
   "cell_type": "code",
   "execution_count": 1,
   "metadata": {},
   "outputs": [
    {
     "name": "stdout",
     "output_type": "stream",
     "text": [
      "A(3, 8) = 2045\n"
     ]
    }
   ],
   "source": [
    "import csv\n",
    "\n",
    "def ackermann(m, n, memo={}):\n",
    "    if (m, n) in memo:\n",
    "        return memo[(m, n)]\n",
    "    if m == 0:\n",
    "        result = n + 1\n",
    "    elif m > 0 and n == 0:\n",
    "        result = ackermann(m - 1, 1, memo)\n",
    "    elif m > 0 and n > 0:\n",
    "        result = ackermann(m - 1, ackermann(m, n - 1, memo), memo)\n",
    "    memo[(m, n)] = result\n",
    "    return result\n",
    "\n",
    "# Calculate the answer of A(3, 8)\n",
    "answer = ackermann(3, 8)\n",
    "\n",
    "# Save the answer as a new CSV file\n",
    "csv_data = [[\"id\", \"answer\"], [1, answer]]\n",
    "\n",
    "# Writing to a CSV file\n",
    "csv_file_path = \"ackermann_result.csv\"\n",
    "with open(csv_file_path, mode='w', newline='') as file:\n",
    "    writer = csv.writer(file)\n",
    "    writer.writerows(csv_data)\n",
    "\n",
    "print(f\"A(3, 8) = {answer}\")\n"
   ]
  }
 ],
 "metadata": {
  "kernelspec": {
   "display_name": "Python 3",
   "language": "python",
   "name": "python3"
  },
  "language_info": {
   "codemirror_mode": {
    "name": "ipython",
    "version": 3
   },
   "file_extension": ".py",
   "mimetype": "text/x-python",
   "name": "python",
   "nbconvert_exporter": "python",
   "pygments_lexer": "ipython3",
   "version": "3.12.2"
  }
 },
 "nbformat": 4,
 "nbformat_minor": 2
}
